{
 "cells": [
  {
   "cell_type": "code",
   "execution_count": 76,
   "metadata": {},
   "outputs": [],
   "source": [
    "import spacy\n",
    "from spacy.symbols import *\n",
    "import numpy as np\n",
    "from word2number import w2n\n",
    "\n",
    "# Load trained nlp model\n",
    "# trained_model_path = \"I:\\\\My Drive\\\\UCI\\\\Winter 2023\\\\COMPSCI 175\\\\text_parse\\\\text_parse\\models\\\\trained-trf-pos-model\"\n",
    "nlp = spacy.load (\"en_core_web_trf\")\n",
    "\n",
    "from gensim.models import KeyedVectors\n",
    "from gensim import models\n",
    "from gensim.models import Word2Vec\n",
    "import json\n",
    "# import AstarSearch\n",
    "import math\n",
    "import time\n",
    "\n",
    "# Load pretrained model (since intermediate data is not included, the model cannot be refined with additional data)\n",
    "#model = Word2Vec.load_word2vec_format('GoogleNews-vectors-negative300.bin', binary=True, norm_only=True) -> Deprecated\n",
    "\n",
    "# vector_model_path = \"C:\\\\Users\\\\Unkow\\\\Downloads\\\\GoogleNews-vectors-negative300.bin.gz\"\n",
    "# model = gensim.models.KeyedVectors.load_word2vec_format (vector_model_path, binary=True) # without *norm_only* param\n",
    "\n",
    "# model.init_sims(replace=True)\n",
    "# model.save(\"models/GoogleNews\")\n",
    "\n",
    "# Load saved vector model\n",
    "# saved_vector_model_path = \"models/GoogleNews\"\n",
    "saved_vector_model_path = \"I:\\\\My Drive\\\\UCI\\\\Winter 2023\\\\COMPSCI 175\\\\text_parse\\\\text_parse\\\\models\\\\GoogleNews\"\n",
    "model = KeyedVectors.load (saved_vector_model_path, mmap='r')\n",
    "\n",
    "import warnings\n",
    "warnings.filterwarnings(action='ignore', category=UserWarning)  # suppress TracerWarning\n"
   ]
  },
  {
   "cell_type": "code",
   "execution_count": 77,
   "metadata": {},
   "outputs": [],
   "source": [
    "DEBUG = False\n",
    "\n",
    "command_map = {\n",
    "            \"move\": {\n",
    "                \"stop\": [\"move 0\", \"strafe 0\"],\n",
    "                \"forward\": \"move 1\", \"forwards\": \"move 1\", \"back\": \"move -1\", \"backward\": \"move -1\", \"backwards\": \"move -1\", \"right\": \"strafe 1\", \"left\": \"strafe -1\",\n",
    "                \"north\": \"movenorth 1\", \"south\": \"movesouth 1\", \"east\": \"moveeast 1\", \"west\": \"movewest 1\",\n",
    "                \"to\": \"OBJECT\"\n",
    "            },\n",
    "            \"strafe\": {\"right\": \"strafe 1\", \"left\": \"strafe -1\", \"stop\": [\"strafe 0\"]},\n",
    "            \"turn\": {\"right\": \"turn 1\", \"left\": \"turn -1\", \"stop\": [\"turn 0\", \"pitch 0\"],\n",
    "                     \"up\": \"pitch -1\", \"down\": \"pitch 1\"},\n",
    "            \"look\": {\"up\": \"look -1\", \"down\": \"look 1\"},\n",
    "            \"pitch\": {\"up\": \"pitch -1\", \"down\": \"pitch 1\", \"stop\": [\"pitch 0\"]},\n",
    "            \"jump\": {\n",
    "                \"\": \"jump 1\", \"up\": \"jump 1\", \"stop\": [\"jump 0\"], \"forward\": \"jumpmove 1\", \"back\": \"jumpmove -1\",\n",
    "                \"backwards\": \"jumpmove -1\", \"right\": \"jumpstrafe 1\", \"left\": \"jumpstrafe -1\",\n",
    "                \"north\": \"jumpnorth 1\", \"south\": \"jumpsouth 1\", \"east\": \"jumpeast 1\", \"west\": \"jumpwest 1\"\n",
    "            },\n",
    "            \"crouch\": {\"\": \"crouch 1\", \"stop\": [\"crouch 0\"]},\n",
    "            \"attack\": {\"\": \"attack 1\", \"stop\": [\"attack 0\"]},\n",
    "            \"use\": {},\n",
    "            \"get\": {\"\": \"OBJECT\"},\n",
    "            \"discard\": {\"\": \"discardCurrentItem\"},\n",
    "            \"stop\": [\"move 0\", \"jump 0\", \"turn 0\", \"strafe 0\", \"pitch 0\", \"crouch 0\", \"attack 0\"],\n",
    "            \"quit\": {\"\": \"quit\"}\n",
    "        }\n",
    "\n",
    "def word_similarity_score (word1, word2):\n",
    "    score = model.similarity (word1, word2)\n",
    "    return score\n",
    "\n",
    "def get_best_match (word, commands_map, threshold):\n",
    "    scores = []\n",
    "    for commands in commands_map:\n",
    "        score = word_similarity_score (word, commands)\n",
    "        scores.append (score)\n",
    "    keys = list (commands_map.keys())\n",
    "    command = keys[np.argmax (scores)]\n",
    "    return command\n",
    "\n",
    "def get_similar_command (verb, commands_map, agent_host):\n",
    "    lemma_verb = verb.lemma_\n",
    "    # synonyms?\n",
    "    # left\n",
    "    if verb.pos != VERB:\n",
    "        return verb\n",
    "    # get synonym?\n",
    "    t = 0.5\n",
    "    command = get_best_match (lemma_verb, commands_map, t)\n",
    "    return command\n",
    "\n",
    "def send_command (verb, commands_map, agent_host):\n",
    "    if str (verb) == \"stop\":\n",
    "        return send_stop_command (commands_map, agent_host)\n",
    "    command = commands_map.get (str (verb)).get('')\n",
    "    return [command]\n",
    " \n",
    "def send_command_option (verb, option, commands_map, agent_host):\n",
    "    for a in option.ancestors:\n",
    "        if a.pos == VERB:\n",
    "            for r in a.rights:\n",
    "                if r.pos == NOUN:\n",
    "                    return None\n",
    "                elif r.lemma_ != option.lemma_:\n",
    "                    break\n",
    "    \n",
    "    for l in option.lefts:\n",
    "        if l.pos == NOUN:\n",
    "            for l in l.lefts:\n",
    "                if l.pos == NUM:\n",
    "                    command = commands_map.get (verb).get (option.lemma_)\n",
    "                    n  = w2n.word_to_num (l.lemma_)\n",
    "                    commands = []\n",
    "                    for i in range (n):\n",
    "                        commands.append (command)\n",
    "                    return commands\n",
    "        else:\n",
    "            break\n",
    "\n",
    "    command = commands_map.get (verb).get (option.lemma_)\n",
    "    return [command]\n",
    "\n",
    "def send_prop_command (verb, prep, commands_map, agent_host):\n",
    "    if prep.lemma_ in commands_map.get (\"move\"):\n",
    "        for r in prep.rights:\n",
    "            if r.pos_ == \"NOUN\":\n",
    "                # move to OBJECT\n",
    "                if agent_host == None:\n",
    "                    return [str (verb) + \" \" + str (prep) + \" \" + str(r)]\n",
    "                AstarSearch.move_to (agent_host, str (r))\n",
    "                return [None]\n",
    "            elif r.lemma_ in commands_map.get (\"move\"):\n",
    "                c = send_command_option (verb, r, commands_map, agent_host)\n",
    "                if c:\n",
    "                    return c\n",
    "\n",
    "def send_object_command (verb, object, commands_map, agent_host):\n",
    "    for l in object.lefts:\n",
    "        if l.pos == NUM:  \n",
    "            for a in l.ancestors:\n",
    "                if a.pos == VERB:\n",
    "                    for r in a.rights:\n",
    "                        if r.pos == ADV:\n",
    "                            command = commands_map.get (verb).get (r.lemma_)\n",
    "                            n  = w2n.word_to_num (l.lemma_)\n",
    "                            commands = []\n",
    "                            for i in range (n):\n",
    "                                commands.append (command)\n",
    "                            return commands\n",
    "\n",
    "    if agent_host == None:\n",
    "        return [str (verb) + \" \" + str (object)]\n",
    "    \n",
    "    if verb == \"get\":\n",
    "        AstarSearch.move_to (agent_host, str (object))\n",
    "        return [None]\n",
    "\n",
    "    if verb == \"use\":\n",
    "        world_state = agent_host.getWorldState()\n",
    "        if world_state.number_of_observations_since_last_state > 0:\n",
    "            msg = world_state.observations[-1].text\n",
    "            observations = json.loads(msg)\n",
    "            if \"inventory\" in observations:\n",
    "                items = observations[\"inventory\"]\n",
    "                for i in items:\n",
    "                    type = i[\"type\"]\n",
    "                    index = i[\"index\"]\n",
    "                    if object.text in type:\n",
    "                        return [\"hotbar.\" + str (index + 1) + \" 1\"]\n",
    "    elif verb == \"attack\":\n",
    "        return [str (verb) + \" \" + str (object)]\n",
    "    elif verb == \"grab\":\n",
    "        return [str (verb) + \" \" + str (object)]\n",
    "\n",
    "def send_stop_command (commands_map, agent_host):\n",
    "    command = commands_map.get (\"stop\")\n",
    "    return command\n",
    "\n",
    "def parse_root_verb (verb, commands_map, agent_host):\n",
    "    malmo_command = get_similar_command (verb, commands_map, agent_host)\n",
    "    \n",
    "    if DEBUG:\n",
    "        print (\"malmo command: \", malmo_command)\n",
    "\n",
    "    commands = []\n",
    "    if sum (1 for r in verb.rights) == 0:\n",
    "        c = send_command (malmo_command, commands_map, agent_host)\n",
    "        if c:\n",
    "            commands.append (c)\n",
    "    \n",
    "    for word in verb.rights:\n",
    "        if DEBUG:\n",
    "            print (\"word: \", word, word.pos_)\n",
    "        if word.pos == ADV:\n",
    "            # move forward\n",
    "            # move backwards\n",
    "            if word.lemma_ in commands_map.get (malmo_command):\n",
    "                c = send_command_option (malmo_command, word, commands_map, agent_host)\n",
    "                if c:\n",
    "                    commands.append (c)             \n",
    "        elif word.pos == VERB:\n",
    "            # subsequent command\n",
    "            # move forward and dig\n",
    "            if word.lemma_ == \"stop\":\n",
    "                c = send_stop_command (commands_map, agent_host)\n",
    "                if c:\n",
    "                    commands.append (c)\n",
    "            else:\n",
    "                c = parse_root_verb (word, commands_map, agent_host)\n",
    "                if c:\n",
    "                    for c in c:\n",
    "                        commands.append (c)           \n",
    "        elif word.pos == ADP:\n",
    "            # preposition object\n",
    "            # move to the left\n",
    "            # move to the right\n",
    "            # move to\n",
    "            c = send_prop_command (malmo_command, word, commands_map, agent_host)\n",
    "            if c:\n",
    "                commands.append (c)        \n",
    "        elif word.pos == NOUN or word.pos == PROPN:\n",
    "            # move 1 block forward\n",
    "            c = send_object_command (malmo_command, word, commands_map, agent_host)\n",
    "            if c:\n",
    "                commands.append (c)\n",
    "        elif word.pos == CCONJ:\n",
    "            c = send_command (malmo_command, commands_map, agent_host)\n",
    "            if c:\n",
    "                commands.append (c)                \n",
    "\n",
    "    return commands\n",
    "\n",
    "def check_agent_pos (agent_host):\n",
    "        # check to keep agent positioned correctly before a discrete move command\n",
    "    agent_location = AstarSearch.find_agent_location(agent_host)\n",
    "    if agent_location:\n",
    "        if agent_location[0] % 1 != 0.5:\n",
    "            agent_host.sendCommand(f\"tpx {math.floor (agent_location[0]) + 0.5}\")\n",
    "        if agent_location[2] % 1 != 0.5:\n",
    "            agent_host.sendCommand(f\"tpz {math.floor (agent_location[2]) + 0.5}\")\n",
    "\n",
    "\n",
    "def parse_string_command (string, commands_map = command_map, agent_host = None):\n",
    "    doc = nlp (string)\n",
    "    commands = []\n",
    "    for sentence in doc.sents:\n",
    "            r = sentence.root\n",
    "            c = parse_root_verb (r, commands_map, agent_host)\n",
    "            if c:\n",
    "                for c in c:\n",
    "                    commands.append (c)\n",
    "    \n",
    "    if agent_host == None:\n",
    "        return commands\n",
    "    \n",
    "    for c in commands:\n",
    "        if c:\n",
    "            print (c, len (c))\n",
    "            for c in c:\n",
    "                if c:\n",
    "                    check_agent_pos (agent_host)\n",
    "                    agent_host.sendCommand (c)\n",
    "            time.sleep(1)\n",
    "\n",
    "# if __name__ == \"__main__\":\n",
    "#     command = input (\": \")\n",
    "#     while command.lower() != \"quit\":\n",
    "#         commands = parse_string_command (command, command_map)\n",
    "        \n",
    "#         for c in commands:\n",
    "#             print (c)\n",
    "        \n",
    "#         command = input (\": \")"
   ]
  },
  {
   "cell_type": "code",
   "execution_count": 78,
   "metadata": {},
   "outputs": [
    {
     "name": "stdout",
     "output_type": "stream",
     "text": [
      "['move 1', 'move 1', 'move 1', 'move 1', 'move 1'] 5\n"
     ]
    }
   ],
   "source": [
    "command = \"move forward five steps\"\n",
    "commands = parse_string_command (nlp (command), command_map)\n",
    "for c in commands:\n",
    "    print (c, len (c))"
   ]
  },
  {
   "cell_type": "code",
   "execution_count": 79,
   "metadata": {},
   "outputs": [
    {
     "name": "stdout",
     "output_type": "stream",
     "text": [
      "['strafe -1', 'strafe -1', 'strafe -1', 'strafe -1', 'strafe -1'] 5\n"
     ]
    }
   ],
   "source": [
    "command = \"move left five steps\"\n",
    "commands = parse_string_command (nlp (command), command_map)\n",
    "for c in commands:\n",
    "    print (c, len (c))"
   ]
  },
  {
   "cell_type": "code",
   "execution_count": 80,
   "metadata": {},
   "outputs": [
    {
     "name": "stdout",
     "output_type": "stream",
     "text": [
      "['strafe 1', 'strafe 1', 'strafe 1', 'strafe 1', 'strafe 1'] 5\n"
     ]
    }
   ],
   "source": [
    "command = \"move right five steps\"\n",
    "commands = parse_string_command (nlp (command), command_map)\n",
    "for c in commands:\n",
    "    print (c, len (c))"
   ]
  },
  {
   "cell_type": "code",
   "execution_count": 81,
   "metadata": {},
   "outputs": [
    {
     "name": "stdout",
     "output_type": "stream",
     "text": [
      "['move 1', 'move 1', 'move 1'] 3\n",
      "[None] 1\n",
      "['move -1', 'move -1', 'move -1'] 3\n"
     ]
    }
   ],
   "source": [
    "command = \"move forward three steps and then move backwards three steps\"\n",
    "commands = parse_string_command (command, command_map)\n",
    "for c in commands:\n",
    "    print (c, len (c))"
   ]
  },
  {
   "cell_type": "code",
   "execution_count": 82,
   "metadata": {},
   "outputs": [
    {
     "name": "stdout",
     "output_type": "stream",
     "text": [
      "['move -1', 'move -1', 'move -1', 'move -1'] 4\n"
     ]
    }
   ],
   "source": [
    "command = \"move backwards four steps\"\n",
    "commands = parse_string_command (nlp (command), command_map)\n",
    "for c in commands:\n",
    "    print (c, len (c))"
   ]
  },
  {
   "cell_type": "code",
   "execution_count": 83,
   "metadata": {},
   "outputs": [
    {
     "name": "stdout",
     "output_type": "stream",
     "text": [
      "['jump 1'] 1\n",
      "['move 1', 'move 1', 'move 1', 'move 1', 'move 1'] 5\n"
     ]
    }
   ],
   "source": [
    "command = \"jump and then move five steps forwards\"\n",
    "commands = parse_string_command (nlp (command), command_map)\n",
    "for c in commands:\n",
    "    print (c, len (c))"
   ]
  },
  {
   "cell_type": "code",
   "execution_count": 84,
   "metadata": {},
   "outputs": [
    {
     "name": "stdout",
     "output_type": "stream",
     "text": [
      "['move -1', 'move -1'] 2\n",
      "[None] 1\n",
      "['turn -1'] 1\n",
      "[None] 1\n",
      "['move 1', 'move 1', 'move 1'] 3\n"
     ]
    }
   ],
   "source": [
    "command = \"move backwards two steps and then turn left and then move forward three steps\"\n",
    "commands = parse_string_command (command, command_map)\n",
    "for c in commands:\n",
    "    print (c, len (c))"
   ]
  },
  {
   "cell_type": "code",
   "execution_count": 85,
   "metadata": {},
   "outputs": [
    {
     "name": "stdout",
     "output_type": "stream",
     "text": [
      "['crouch 1'] 1\n",
      "['strafe -1'] 1\n",
      "[None] 1\n",
      "['move 0', 'jump 0', 'turn 0', 'strafe 0', 'pitch 0', 'crouch 0', 'attack 0'] 7\n"
     ]
    }
   ],
   "source": [
    "command = \"crouch and then move left and then stop and then move right\"\n",
    "commands = parse_string_command (command, command_map)\n",
    "for c in commands:\n",
    "    print (c, len (c))"
   ]
  },
  {
   "cell_type": "code",
   "execution_count": 86,
   "metadata": {},
   "outputs": [
    {
     "name": "stdout",
     "output_type": "stream",
     "text": [
      "['use pickaxe'] 1\n"
     ]
    }
   ],
   "source": [
    "command = \"equip the pickaxe\"\n",
    "commands = parse_string_command (command, command_map)\n",
    "for c in commands:\n",
    "    print (c, len (c))"
   ]
  },
  {
   "cell_type": "code",
   "execution_count": 87,
   "metadata": {},
   "outputs": [],
   "source": [
    "p = \"diamond_axe\"\n",
    "p1 = \"axe\".capitalize()\n",
    "\n",
    "if p1 in p:\n",
    "    print (p1)"
   ]
  },
  {
   "cell_type": "code",
   "execution_count": 88,
   "metadata": {},
   "outputs": [
    {
     "name": "stdout",
     "output_type": "stream",
     "text": [
      "['get pig'] 1\n"
     ]
    }
   ],
   "source": [
    "command = \"find the pig\"\n",
    "commands = parse_string_command (command, command_map)\n",
    "for c in commands:\n",
    "    print (c, len (c))"
   ]
  },
  {
   "cell_type": "code",
   "execution_count": 89,
   "metadata": {},
   "outputs": [
    {
     "data": {
      "text/html": [
       "<span class=\"tex2jax_ignore\"><svg xmlns=\"http://www.w3.org/2000/svg\" xmlns:xlink=\"http://www.w3.org/1999/xlink\" xml:lang=\"en\" id=\"b1f44db8b7cb40ab828a2078cb49a182-0\" class=\"displacy\" width=\"750\" height=\"312.0\" direction=\"ltr\" style=\"max-width: none; height: 312.0px; color: #000000; background: #ffffff; font-family: Arial; direction: ltr\">\n",
       "<text class=\"displacy-token\" fill=\"currentColor\" text-anchor=\"middle\" y=\"222.0\">\n",
       "    <tspan class=\"displacy-word\" fill=\"currentColor\" x=\"50\">move</tspan>\n",
       "    <tspan class=\"displacy-tag\" dy=\"2em\" fill=\"currentColor\" x=\"50\">VERB</tspan>\n",
       "</text>\n",
       "\n",
       "<text class=\"displacy-token\" fill=\"currentColor\" text-anchor=\"middle\" y=\"222.0\">\n",
       "    <tspan class=\"displacy-word\" fill=\"currentColor\" x=\"225\">to</tspan>\n",
       "    <tspan class=\"displacy-tag\" dy=\"2em\" fill=\"currentColor\" x=\"225\">ADP</tspan>\n",
       "</text>\n",
       "\n",
       "<text class=\"displacy-token\" fill=\"currentColor\" text-anchor=\"middle\" y=\"222.0\">\n",
       "    <tspan class=\"displacy-word\" fill=\"currentColor\" x=\"400\">the</tspan>\n",
       "    <tspan class=\"displacy-tag\" dy=\"2em\" fill=\"currentColor\" x=\"400\">DET</tspan>\n",
       "</text>\n",
       "\n",
       "<text class=\"displacy-token\" fill=\"currentColor\" text-anchor=\"middle\" y=\"222.0\">\n",
       "    <tspan class=\"displacy-word\" fill=\"currentColor\" x=\"575\">pig</tspan>\n",
       "    <tspan class=\"displacy-tag\" dy=\"2em\" fill=\"currentColor\" x=\"575\">NOUN</tspan>\n",
       "</text>\n",
       "\n",
       "<g class=\"displacy-arrow\">\n",
       "    <path class=\"displacy-arc\" id=\"arrow-b1f44db8b7cb40ab828a2078cb49a182-0-0\" stroke-width=\"2px\" d=\"M70,177.0 C70,89.5 220.0,89.5 220.0,177.0\" fill=\"none\" stroke=\"currentColor\"/>\n",
       "    <text dy=\"1.25em\" style=\"font-size: 0.8em; letter-spacing: 1px\">\n",
       "        <textPath xlink:href=\"#arrow-b1f44db8b7cb40ab828a2078cb49a182-0-0\" class=\"displacy-label\" startOffset=\"50%\" side=\"left\" fill=\"currentColor\" text-anchor=\"middle\">prep</textPath>\n",
       "    </text>\n",
       "    <path class=\"displacy-arrowhead\" d=\"M220.0,179.0 L228.0,167.0 212.0,167.0\" fill=\"currentColor\"/>\n",
       "</g>\n",
       "\n",
       "<g class=\"displacy-arrow\">\n",
       "    <path class=\"displacy-arc\" id=\"arrow-b1f44db8b7cb40ab828a2078cb49a182-0-1\" stroke-width=\"2px\" d=\"M420,177.0 C420,89.5 570.0,89.5 570.0,177.0\" fill=\"none\" stroke=\"currentColor\"/>\n",
       "    <text dy=\"1.25em\" style=\"font-size: 0.8em; letter-spacing: 1px\">\n",
       "        <textPath xlink:href=\"#arrow-b1f44db8b7cb40ab828a2078cb49a182-0-1\" class=\"displacy-label\" startOffset=\"50%\" side=\"left\" fill=\"currentColor\" text-anchor=\"middle\">det</textPath>\n",
       "    </text>\n",
       "    <path class=\"displacy-arrowhead\" d=\"M420,179.0 L412,167.0 428,167.0\" fill=\"currentColor\"/>\n",
       "</g>\n",
       "\n",
       "<g class=\"displacy-arrow\">\n",
       "    <path class=\"displacy-arc\" id=\"arrow-b1f44db8b7cb40ab828a2078cb49a182-0-2\" stroke-width=\"2px\" d=\"M245,177.0 C245,2.0 575.0,2.0 575.0,177.0\" fill=\"none\" stroke=\"currentColor\"/>\n",
       "    <text dy=\"1.25em\" style=\"font-size: 0.8em; letter-spacing: 1px\">\n",
       "        <textPath xlink:href=\"#arrow-b1f44db8b7cb40ab828a2078cb49a182-0-2\" class=\"displacy-label\" startOffset=\"50%\" side=\"left\" fill=\"currentColor\" text-anchor=\"middle\">pobj</textPath>\n",
       "    </text>\n",
       "    <path class=\"displacy-arrowhead\" d=\"M575.0,179.0 L583.0,167.0 567.0,167.0\" fill=\"currentColor\"/>\n",
       "</g>\n",
       "</svg></span>"
      ],
      "text/plain": [
       "<IPython.core.display.HTML object>"
      ]
     },
     "metadata": {},
     "output_type": "display_data"
    }
   ],
   "source": [
    "from spacy import displacy\n",
    "command = \"move to the pig\"\n",
    "displacy.render (nlp (command), style = \"dep\")"
   ]
  },
  {
   "cell_type": "code",
   "execution_count": 90,
   "metadata": {},
   "outputs": [
    {
     "name": "stdout",
     "output_type": "stream",
     "text": [
      "['move to pig'] 1\n"
     ]
    }
   ],
   "source": [
    "command = \"move to the pig\"\n",
    "commands = parse_string_command (command, command_map)\n",
    "for c in commands:\n",
    "    print (c, len (c))"
   ]
  },
  {
   "cell_type": "code",
   "execution_count": 91,
   "metadata": {},
   "outputs": [
    {
     "name": "stdout",
     "output_type": "stream",
     "text": [
      "['attack 1'] 1\n",
      "['move 1', 'move 1'] 2\n"
     ]
    }
   ],
   "source": [
    "command = \"attack and then move forward two steps\"\n",
    "commands = parse_string_command (command, command_map)\n",
    "for c in commands:\n",
    "    print (c, len (c))"
   ]
  },
  {
   "cell_type": "code",
   "execution_count": 92,
   "metadata": {},
   "outputs": [
    {
     "name": "stdout",
     "output_type": "stream",
     "text": [
      "Word       Word       Similarity\n",
      "move       go         0.4947884976863861\n",
      "move       step       0.5192893743515015\n",
      "move       walk       0.3199070692062378\n",
      "strafe     sidestep   0.17268125712871552\n",
      "turn       look       0.3405826985836029\n",
      "turn       steer      0.4563356339931488\n",
      "turn       redirect   0.4376186430454254\n",
      "pitch      view       0.02832110971212387\n",
      "pitch      look       0.11063489317893982\n",
      "jump       leap       0.6579698920249939\n",
      "jump       climb      0.5455771088600159\n",
      "crouch     kneel      0.4637507200241089\n",
      "crouch     squat      0.45443809032440186\n",
      "crouch     duck       0.24699382483959198\n",
      "attack     strike     0.4166296422481537\n",
      "attack     hit        0.20998208224773407\n",
      "use        equip      0.2946905195713043\n",
      "get        find       0.5191866755485535\n",
      "get        discover   0.28421375155448914\n",
      "get        locat      0.08558519184589386\n",
      "discard    drop       0.22030499577522278\n",
      "discard    throw      0.29430434107780457\n",
      "discard    dispose    0.5484936237335205\n",
      "discard    remove     0.48475831747055054\n",
      "stop       halt       0.6082638502120972\n",
      "stop       cease      0.503141462802887\n",
      "quit       exit       0.2591541111469269\n",
      "quit       leave      0.4841381311416626\n",
      "quit       withdraw   0.4798136353492737\n",
      "quit       abandon    0.47951140999794006\n"
     ]
    }
   ],
   "source": [
    "words = {\n",
    "    \"move\": [\"go\", \"step\", \"walk\"],\n",
    "    \"strafe\": [\"sidestep\"],\n",
    "    \"turn\": [\"look\", \"steer\", \"redirect\"],\n",
    "    \"pitch\": [\"view\", \"look\"],\n",
    "    \"jump\": [\"leap\", \"climb\"],\n",
    "    \"crouch\": [\"kneel\", \"squat\", \"duck\"],\n",
    "    \"attack\": [\"strike\", \"hit\"],\n",
    "    \"use\": [\"equip\"],\n",
    "    \"get\": [\"find\", \"discover\", \"locat\"],\n",
    "    \"discard\": [\"drop\", \"throw\", \"dispose\", \"remove\"],\n",
    "    \"stop\": [\"halt\", \"cease\"],\n",
    "    \"quit\": [\"exit\", \"leave\", \"withdraw\", \"abandon\"]\n",
    "}\n",
    "\n",
    "padding = 10\n",
    "print (f\"{'Word':<{padding}} {'Word':<{padding}} {'Similarity':<{padding}}\")\n",
    "for word in words:\n",
    "    for w in words[word]:\n",
    "        similarity = word_similarity_score (word, w)\n",
    "        print (f\"{word: <{padding}} {w: <{padding}} {similarity: <{padding}}\")"
   ]
  },
  {
   "cell_type": "code",
   "execution_count": 93,
   "metadata": {},
   "outputs": [
    {
     "name": "stdout",
     "output_type": "stream",
     "text": [
      "none\n"
     ]
    }
   ],
   "source": [
    "w = command_map.get(\"ppp\")\n",
    "if w == None:\n",
    "    print (\"none\")"
   ]
  },
  {
   "cell_type": "code",
   "execution_count": 94,
   "metadata": {},
   "outputs": [
    {
     "name": "stdout",
     "output_type": "stream",
     "text": [
      "Word:  strike\n",
      "move:                0.21112419664859772 \n",
      "strafe:              0.12763535976409912 \n",
      "turn:                0.14728482067584991 \n",
      "look:                0.04816334322094917 \n",
      "pitch:               0.252928763628006   \n",
      "jump:                0.1185469999909401  \n",
      "crouch:              0.18934939801692963 \n",
      "attack:              0.4166296422481537  \n",
      "use:                 0.04601665213704109 \n",
      "get:                 0.14010487496852875 \n",
      "discard:             0.05633421987295151 \n",
      "stop:                0.13084031641483307 \n",
      "quit:                0.15927809476852417 \n",
      "\n"
     ]
    }
   ],
   "source": [
    "padding = 20\n",
    "\n",
    "words = [\"strike\"]\n",
    "for w in words:\n",
    "    print (\"Word: \", w)\n",
    "    for c in command_map:\n",
    "        similarity = word_similarity_score (w, c)\n",
    "        print (f\"{c + ':': <{padding}} {similarity: <{padding}}\")\n",
    "    print()"
   ]
  },
  {
   "cell_type": "code",
   "execution_count": 95,
   "metadata": {},
   "outputs": [],
   "source": [
    "nlp_lg = spacy.load (\"en_core_web_lg\")"
   ]
  },
  {
   "cell_type": "code",
   "execution_count": 96,
   "metadata": {},
   "outputs": [
    {
     "name": "stdout",
     "output_type": "stream",
     "text": [
      "Word:  strike\n",
      "move:                0.45278189120395546 \n",
      "strafe:              0.42521033366502003 \n",
      "turn:                0.39054223557421763 \n",
      "look:                0.16421402020221976 \n",
      "pitch:               0.3704094655891882  \n",
      "jump:                0.28651761712600193 \n",
      "crouch:              0.11708493286142005 \n",
      "attack:              0.6477336955049335  \n",
      "use:                 0.14544984748344783 \n",
      "get:                 0.2387346415970668  \n",
      "discard:             0.21439720844750057 \n",
      "stop:                0.29185042409280737 \n",
      "quit:                0.16667880411776206 \n",
      "\n"
     ]
    }
   ],
   "source": [
    "words = [\"strike\"]\n",
    "for w in words:\n",
    "    print (\"Word: \", w)\n",
    "    for c in command_map:\n",
    "        similarity = nlp_lg (w).similarity (nlp_lg (c))\n",
    "        print (f\"{c + ':': <{padding}} {similarity: <{padding}}\")\n",
    "    print()    "
   ]
  },
  {
   "cell_type": "code",
   "execution_count": 97,
   "metadata": {},
   "outputs": [
    {
     "data": {
      "text/plain": [
       "[('attacks', 0.7638030648231506),\n",
       " ('attck', 0.606964111328125),\n",
       " ('atack', 0.6036049723625183),\n",
       " ('assault', 0.5970097780227661),\n",
       " ('atttack', 0.5820074081420898),\n",
       " ('bombing', 0.5777696371078491),\n",
       " ('assaults', 0.5646901726722717),\n",
       " ('attacking', 0.5615357160568237),\n",
       " ('attacked', 0.5553597211837769),\n",
       " ('counterattack', 0.5205312967300415),\n",
       " ('unprovoked_attack', 0.5182728171348572),\n",
       " ('atacks', 0.5176907181739807),\n",
       " ('suicide_bombing', 0.5143910646438599),\n",
       " ('ambush', 0.5107647180557251),\n",
       " ('atttacks', 0.5064945220947266),\n",
       " ('raid', 0.502953290939331),\n",
       " ('blasts', 0.49935752153396606),\n",
       " ('attack.The', 0.49905073642730713),\n",
       " ('vicious_unprovoked', 0.49792152643203735),\n",
       " ('bombings', 0.4972839653491974),\n",
       " ('onslaught', 0.4892962872982025),\n",
       " ('attackers', 0.48471570014953613),\n",
       " ('Attack', 0.48243942856788635),\n",
       " ('northwestern_Hurriyah_neighborhood', 0.4810367524623871),\n",
       " ('theattack', 0.4677920937538147),\n",
       " ('incursion', 0.4648672044277191),\n",
       " ('bomb_blast', 0.4632481336593628),\n",
       " ('counterstrike', 0.4620131850242615),\n",
       " ('terrorist_attacks', 0.4619075655937195),\n",
       " ('counterattacks', 0.4613931477069855)]"
      ]
     },
     "execution_count": 97,
     "metadata": {},
     "output_type": "execute_result"
    }
   ],
   "source": [
    "model.most_similar (\"attack\", topn = 30)"
   ]
  },
  {
   "cell_type": "code",
   "execution_count": 98,
   "metadata": {},
   "outputs": [],
   "source": [
    "from spacy import displacy"
   ]
  },
  {
   "cell_type": "code",
   "execution_count": 99,
   "metadata": {},
   "outputs": [
    {
     "data": {
      "text/html": [
       "<span class=\"tex2jax_ignore\"><svg xmlns=\"http://www.w3.org/2000/svg\" xmlns:xlink=\"http://www.w3.org/1999/xlink\" xml:lang=\"en\" id=\"7fae0bf168ed44fead6e4c4ada9be2b5-0\" class=\"displacy\" width=\"400\" height=\"224.5\" direction=\"ltr\" style=\"max-width: none; height: 224.5px; color: #000000; background: #ffffff; font-family: Arial; direction: ltr\">\n",
       "<text class=\"displacy-token\" fill=\"currentColor\" text-anchor=\"middle\" y=\"134.5\">\n",
       "    <tspan class=\"displacy-word\" fill=\"currentColor\" x=\"50\">move</tspan>\n",
       "    <tspan class=\"displacy-tag\" dy=\"2em\" fill=\"currentColor\" x=\"50\">VERB</tspan>\n",
       "</text>\n",
       "\n",
       "<text class=\"displacy-token\" fill=\"currentColor\" text-anchor=\"middle\" y=\"134.5\">\n",
       "    <tspan class=\"displacy-word\" fill=\"currentColor\" x=\"225\">right</tspan>\n",
       "    <tspan class=\"displacy-tag\" dy=\"2em\" fill=\"currentColor\" x=\"225\">ADV</tspan>\n",
       "</text>\n",
       "\n",
       "<g class=\"displacy-arrow\">\n",
       "    <path class=\"displacy-arc\" id=\"arrow-7fae0bf168ed44fead6e4c4ada9be2b5-0-0\" stroke-width=\"2px\" d=\"M70,89.5 C70,2.0 225.0,2.0 225.0,89.5\" fill=\"none\" stroke=\"currentColor\"/>\n",
       "    <text dy=\"1.25em\" style=\"font-size: 0.8em; letter-spacing: 1px\">\n",
       "        <textPath xlink:href=\"#arrow-7fae0bf168ed44fead6e4c4ada9be2b5-0-0\" class=\"displacy-label\" startOffset=\"50%\" side=\"left\" fill=\"currentColor\" text-anchor=\"middle\">advmod</textPath>\n",
       "    </text>\n",
       "    <path class=\"displacy-arrowhead\" d=\"M225.0,91.5 L233.0,79.5 217.0,79.5\" fill=\"currentColor\"/>\n",
       "</g>\n",
       "</svg></span>"
      ],
      "text/plain": [
       "<IPython.core.display.HTML object>"
      ]
     },
     "metadata": {},
     "output_type": "display_data"
    }
   ],
   "source": [
    "command = \"move right\"\n",
    "displacy.render (nlp (command), style = \"dep\")"
   ]
  }
 ],
 "metadata": {
  "kernelspec": {
   "display_name": "malmo3.6",
   "language": "python",
   "name": "python3"
  },
  "language_info": {
   "codemirror_mode": {
    "name": "ipython",
    "version": 3
   },
   "file_extension": ".py",
   "mimetype": "text/x-python",
   "name": "python",
   "nbconvert_exporter": "python",
   "pygments_lexer": "ipython3",
   "version": "3.6.13"
  },
  "orig_nbformat": 4,
  "vscode": {
   "interpreter": {
    "hash": "8a2991e2c77cc58d0c40c3f523934196c508e6215baf9fb7166ea27b7fdb5fbc"
   }
  }
 },
 "nbformat": 4,
 "nbformat_minor": 2
}
