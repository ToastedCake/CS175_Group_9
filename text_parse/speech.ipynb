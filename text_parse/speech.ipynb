{
 "cells": [
  {
   "cell_type": "code",
   "execution_count": 1,
   "metadata": {},
   "outputs": [],
   "source": [
    "import speech_recognition as sr"
   ]
  },
  {
   "cell_type": "code",
   "execution_count": 22,
   "metadata": {},
   "outputs": [],
   "source": [
    "def takeCommand (audio_file):\n",
    "     \n",
    "    r = sr.Recognizer()\n",
    "\n",
    "    if audio_file:\n",
    "        microphone = sr.AudioFile (audio_file)\n",
    "    else:\n",
    "        microphone = sr.Microphone()\n",
    "    \n",
    "    with microphone as source:\n",
    "        print(\"Listening...\")\n",
    "        r.pause_threshold = 1\n",
    "        audio = r.listen(source)\n",
    "  \n",
    "    try:\n",
    "        print(\"Recognizing...\")   \n",
    "        query = r.recognize_google(audio, language ='en-in')\n",
    "  \n",
    "    except Exception as e:\n",
    "        print(e)   \n",
    "        print(\"Unable to Recognize your voice.\") \n",
    "        return \"None\"\n",
    "     \n",
    "    return query"
   ]
  },
  {
   "cell_type": "code",
   "execution_count": 23,
   "metadata": {},
   "outputs": [
    {
     "name": "stdout",
     "output_type": "stream",
     "text": [
      "Listening...\n",
      "Recognizing...\n",
      "result2:\n",
      "{   'alternative': [   {'confidence': 0.91749078, 'transcript': 'walk forward'},\n",
      "                       {'transcript': 'walk over'},\n",
      "                       {'transcript': 'walk away'},\n",
      "                       {'transcript': 'walked forward'},\n",
      "                       {'transcript': 'walk for'}],\n",
      "    'final': True}\n"
     ]
    },
    {
     "data": {
      "text/plain": [
       "'walk forward'"
      ]
     },
     "execution_count": 23,
     "metadata": {},
     "output_type": "execute_result"
    }
   ],
   "source": [
    "takeCommand (\"Recording.wav\")"
   ]
  }
 ],
 "metadata": {
  "kernelspec": {
   "display_name": "malmo3.6",
   "language": "python",
   "name": "python3"
  },
  "language_info": {
   "codemirror_mode": {
    "name": "ipython",
    "version": 3
   },
   "file_extension": ".py",
   "mimetype": "text/x-python",
   "name": "python",
   "nbconvert_exporter": "python",
   "pygments_lexer": "ipython3",
   "version": "3.6.13"
  },
  "orig_nbformat": 4
 },
 "nbformat": 4,
 "nbformat_minor": 2
}
